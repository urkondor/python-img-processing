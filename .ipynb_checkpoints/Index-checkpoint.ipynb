{
 "cells": [
  {
   "cell_type": "markdown",
   "metadata": {},
   "source": [
    "# Digital Image Processing with Python\n",
    "\n",
    "This book my notebook from the Packt Publishing item of the same name; it doesn't cover image processing of satellite imagery but the principles and methods available will be the same for that as they are for non-satellite images. See the table of contents below:\n",
    "<ol>\n",
    "    <li><a href=\"./Getting Started With Image Processing\">Getting Started with Image Processing</a></li>\n",
    "    <li><a href=\"./Sampling Fourier & Convolution\">Sampling, The Fourier Transform, and Convolution</a></li>\n",
    "    <li>\n"
   ]
  },
  {
   "cell_type": "code",
   "execution_count": null,
   "metadata": {
    "collapsed": true
   },
   "outputs": [],
   "source": []
  }
 ],
 "metadata": {
  "kernelspec": {
   "display_name": "Python 3",
   "language": "python",
   "name": "python3"
  },
  "language_info": {
   "codemirror_mode": {
    "name": "ipython",
    "version": 3
   },
   "file_extension": ".py",
   "mimetype": "text/x-python",
   "name": "python",
   "nbconvert_exporter": "python",
   "pygments_lexer": "ipython3",
   "version": "3.6.7"
  }
 },
 "nbformat": 4,
 "nbformat_minor": 2
}
