{
 "cells": [
  {
   "cell_type": "markdown",
   "metadata": {},
   "source": [
    "# Digital Image Processing with Python\n",
    "\n",
    "This is my notebook from the Packt Publishing item of the same name; it doesn't cover image processing of satellite imagery but the principles and methods available will be the same for that as they are for non-satellite images. See the table of contents below:\n",
    "<ol>\n",
    "    <li><a href=\"./Getting Started with Image Processing.ipynb\">Getting Started with Image Processing</a></li>\n",
    "    <li><a href=\"./Sampling Fourier & Convolution.ipynb\">Sampling, The Fourier Transform, & Convolution</a></li>\n",
    "    <li><a href=\"./Convolution and Frequency Domain Filtering.ipynb\">Convolution & Frequency Domain Filtering</a></li>\n",
    "    <li><a href=\"./Image Enhancement.ipynb\">Image Enhancement</a></li>\n",
    "    <li><a href=\"./Image Enhancement Using Derivatives.ipynb\">Image Enhancement Using Derivatives</a></li>\n",
    "    <li><a href=\"./Morphological Image Processing.ipynb\">Morphological Image Processing</a></li>\n",
    "    <li><a href=\"./Extracting Image Features and Descriptors.ipynb\">Extracting Image Features and Descriptors</a></li>\n",
    "    <li><a href=\"./Image Segmentation.ipynb\">Image Segmentation</a></li>\n",
    "        </ol>\n"
   ]
  },
  {
   "cell_type": "code",
   "execution_count": null,
   "metadata": {
    "collapsed": true
   },
   "outputs": [],
   "source": []
  }
 ],
 "metadata": {
  "kernelspec": {
   "display_name": "Python 3",
   "language": "python",
   "name": "python3"
  },
  "language_info": {
   "codemirror_mode": {
    "name": "ipython",
    "version": 3
   },
   "file_extension": ".py",
   "mimetype": "text/x-python",
   "name": "python",
   "nbconvert_exporter": "python",
   "pygments_lexer": "ipython3",
   "version": "3.6.7"
  }
 },
 "nbformat": 4,
 "nbformat_minor": 2
}
